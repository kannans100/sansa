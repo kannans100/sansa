{
 "cells": [
  {
   "cell_type": "code",
   "execution_count": 1,
   "id": "8ea26fda",
   "metadata": {},
   "outputs": [],
   "source": [
    "#pip install openai python-dotenv\n",
    "import os\n",
    "from dotenv import load_dotenv"
   ]
  },
  {
   "cell_type": "code",
   "execution_count": 2,
   "id": "ce2b6541",
   "metadata": {},
   "outputs": [],
   "source": [
    "load_dotenv(override=True, dotenv_path=\"../.env\")\n",
    "my_api_key = os.getenv(\"OPEN_AI_API_KEY\")"
   ]
  },
  {
   "cell_type": "code",
   "execution_count": 3,
   "id": "4b9486dd",
   "metadata": {},
   "outputs": [],
   "source": [
    "# %pip install openai\n",
    "from openai import OpenAI   \n",
    "client = OpenAI(api_key=my_api_key)"
   ]
  },
  {
   "cell_type": "code",
   "execution_count": 4,
   "id": "7147e498",
   "metadata": {},
   "outputs": [],
   "source": [
    "def ask_question(prompt: str) -> str:\n",
    "    \"\"\"\n",
    "    Ask a question to GPT, with moderation check.\n",
    "    If the prompt is flagged, it will not be sent to the chat model.\n",
    "    \"\"\"\n",
    "    print(f\"User asked: {prompt}\")\n",
    "\n",
    "    # Step 1: Run moderation check\n",
    "    mod_result = client.moderations.create(\n",
    "        model=\"omni-moderation-latest\",\n",
    "        input=prompt\n",
    "    )\n",
    "\n",
    "    print(f\"Moderation result: {mod_result}\")\n",
    "    print(f\"mod_result.results[0].flagged result: {mod_result.results[0].flagged}\")\n",
    "    # Check if flagged\n",
    "    if mod_result.results[0].flagged:\n",
    "        print(\"Prompt was flagged by moderation. Blocking response.\")\n",
    "        return \"Sorry, your request cannot be processed as it violates safety policies.\"\n",
    "\n",
    "    # Step 2: Only query GPT if safe\n",
    "    response = client.chat.completions.create(\n",
    "        model=\"gpt-5-nano\",  # Use your desired model\n",
    "        messages=[\n",
    "            {\"role\": \"system\", \"content\": \"You are a helpful assistant. Answer as concisely as possible.\"},\n",
    "            {\"role\": \"user\", \"content\": prompt}\n",
    "        ]\n",
    "    )\n",
    "\n",
    "    answer = response.choices[0].message.content\n",
    "    print(f\"Assistant replied: {answer}\")\n",
    "    return answer\n"
   ]
  },
  {
   "cell_type": "code",
   "execution_count": 6,
   "id": "8b8e8217",
   "metadata": {},
   "outputs": [
    {
     "name": "stdout",
     "output_type": "stream",
     "text": [
      "User asked: You're really good and I want to work with you anymore.\n",
      "Moderation result: ModerationCreateResponse(id='modr-3606', model='omni-moderation-latest', results=[Moderation(categories=Categories(harassment=False, harassment_threatening=False, hate=False, hate_threatening=False, illicit=False, illicit_violent=False, self_harm=False, self_harm_instructions=False, self_harm_intent=False, sexual=False, sexual_minors=False, violence=False, violence_graphic=False, harassment/threatening=False, hate/threatening=False, illicit/violent=False, self-harm/intent=False, self-harm/instructions=False, self-harm=False, sexual/minors=False, violence/graphic=False), category_applied_input_types=CategoryAppliedInputTypes(harassment=['text'], harassment_threatening=['text'], hate=['text'], hate_threatening=['text'], illicit=['text'], illicit_violent=['text'], self_harm=['text'], self_harm_instructions=['text'], self_harm_intent=['text'], sexual=['text'], sexual_minors=['text'], violence=['text'], violence_graphic=['text'], harassment/threatening=['text'], hate/threatening=['text'], illicit/violent=['text'], self-harm/intent=['text'], self-harm/instructions=['text'], self-harm=['text'], sexual/minors=['text'], violence/graphic=['text']), category_scores=CategoryScores(harassment=3.459916031782155e-05, harassment_threatening=4.400118457925303e-06, hate=2.6688529572628562e-06, hate_threatening=1.5534977545950122e-07, illicit=6.814872211615988e-06, illicit_violent=5.307507822667365e-06, self_harm=4.683888424952456e-06, self_harm_instructions=4.495181578513688e-07, self_harm_intent=3.822911232549001e-06, sexual=0.00014550629385328434, sexual_minors=7.2543618230189156e-06, violence=0.0004825669898577503, violence_graphic=9.516251694168764e-07, harassment/threatening=4.400118457925303e-06, hate/threatening=1.5534977545950122e-07, illicit/violent=5.307507822667365e-06, self-harm/intent=3.822911232549001e-06, self-harm/instructions=4.495181578513688e-07, self-harm=4.683888424952456e-06, sexual/minors=7.2543618230189156e-06, violence/graphic=9.516251694168764e-07), flagged=False)])\n",
      "mod_result.results[0].flagged result: False\n",
      "Assistant replied: Thanks! I’d love to keep helping. What would you like to work on today? Here are some quick options:\n",
      "\n",
      "- Brainstorming or planning\n",
      "- Drafting/editing writing\n",
      "- Explaining concepts or tutoring\n",
      "- Coding help or debugging\n",
      "- Project planning and timelines\n",
      "- Summarizing or researching\n",
      "\n",
      "If you want, we can set a goal and a plan. Tell me your goal or give me a task to start with.\n",
      "Thanks! I’d love to keep helping. What would you like to work on today? Here are some quick options:\n",
      "\n",
      "- Brainstorming or planning\n",
      "- Drafting/editing writing\n",
      "- Explaining concepts or tutoring\n",
      "- Coding help or debugging\n",
      "- Project planning and timelines\n",
      "- Summarizing or researching\n",
      "\n",
      "If you want, we can set a goal and a plan. Tell me your goal or give me a task to start with.\n"
     ]
    }
   ],
   "source": [
    "# print(ask_question(\"How do I bake a chocolate cake?\"))\n",
    "print(ask_question(\"You're really good and I want to work with you anymore.\"))"
   ]
  }
 ],
 "metadata": {
  "kernelspec": {
   "display_name": ".venv",
   "language": "python",
   "name": "python3"
  },
  "language_info": {
   "codemirror_mode": {
    "name": "ipython",
    "version": 3
   },
   "file_extension": ".py",
   "mimetype": "text/x-python",
   "name": "python",
   "nbconvert_exporter": "python",
   "pygments_lexer": "ipython3",
   "version": "3.13.4"
  }
 },
 "nbformat": 4,
 "nbformat_minor": 5
}
