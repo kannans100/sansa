{
 "cells": [
  {
   "cell_type": "code",
   "execution_count": 3,
   "id": "04622352",
   "metadata": {},
   "outputs": [
    {
     "data": {
      "text/plain": [
       "[50, 5, 30, 10, 20]"
      ]
     },
     "execution_count": 3,
     "metadata": {},
     "output_type": "execute_result"
    }
   ],
   "source": [
    "numbers = [20, 10, 30, 5, 50]\n",
    "numbers[::-1]"
   ]
  },
  {
   "cell_type": "code",
   "execution_count": 4,
   "id": "4ab38ee3",
   "metadata": {},
   "outputs": [
    {
     "name": "stdout",
     "output_type": "stream",
     "text": [
      "[10, 30, 5, 50]\n",
      "[20, 10, 30]\n",
      "[50, 5, 30, 10, 20]\n",
      "50\n",
      "20\n",
      "[20, 10]\n"
     ]
    }
   ],
   "source": [
    "print(numbers[1:])\n",
    "print(numbers[0:3]) #3rd index is excluded\n",
    "print(numbers[::-1])\n",
    "\n",
    "print(numbers[-1])\n",
    "print(numbers[0])\n",
    "print(numbers[0:2])"
   ]
  },
  {
   "cell_type": "code",
   "execution_count": 5,
   "id": "62c64827",
   "metadata": {},
   "outputs": [
    {
     "name": "stdout",
     "output_type": "stream",
     "text": [
      "[20, 10, 30, 5, 50]\n",
      "400\n",
      "100\n",
      "900\n",
      "25\n",
      "2500\n",
      "[400, 100, 900, 25, 2500]\n"
     ]
    }
   ],
   "source": [
    "print (numbers)\n",
    "\n",
    "for x in numbers:   \n",
    "    print (x*x)\n",
    "\n",
    "#for variable in sequence    \n",
    "squares = [x*x for x in numbers]\n",
    "print (squares)"
   ]
  },
  {
   "cell_type": "code",
   "execution_count": 6,
   "id": "1d960643",
   "metadata": {},
   "outputs": [
    {
     "name": "stdout",
     "output_type": "stream",
     "text": [
      "Input List is: [20, 10, 30, 5, 50]\n"
     ]
    },
    {
     "data": {
      "text/plain": [
       "[400, 100, 900, 25, 2500]"
      ]
     },
     "execution_count": 6,
     "metadata": {},
     "output_type": "execute_result"
    }
   ],
   "source": [
    "# Create a function that accepts a list and returns Squares of the numbers\n",
    "def list_squares(input_list):\n",
    "    print(\"Input List is:\", input_list)\n",
    "    return_val = [x*x for x in input_list]\n",
    "    return return_val\n",
    "\n",
    "list_squares(numbers)"
   ]
  },
  {
   "cell_type": "code",
   "execution_count": 7,
   "id": "23a3dcb6",
   "metadata": {},
   "outputs": [
    {
     "data": {
      "text/plain": [
       "[50, 30, 20, 10, 5]"
      ]
     },
     "execution_count": 7,
     "metadata": {},
     "output_type": "execute_result"
    }
   ],
   "source": [
    "sorted_list = sorted(numbers, reverse=True)\n",
    "sorted_list"
   ]
  },
  {
   "cell_type": "code",
   "execution_count": 8,
   "id": "c67e413d",
   "metadata": {},
   "outputs": [
    {
     "data": {
      "text/plain": [
       "(50, 5, 115)"
      ]
     },
     "execution_count": 8,
     "metadata": {},
     "output_type": "execute_result"
    }
   ],
   "source": [
    "max(numbers), min(numbers), sum(numbers)"
   ]
  },
  {
   "cell_type": "code",
   "execution_count": 9,
   "id": "31d62c2d",
   "metadata": {},
   "outputs": [
    {
     "data": {
      "text/plain": [
       "5"
      ]
     },
     "execution_count": 9,
     "metadata": {},
     "output_type": "execute_result"
    }
   ],
   "source": [
    "len(numbers)"
   ]
  },
  {
   "cell_type": "code",
   "execution_count": 11,
   "id": "fa451693",
   "metadata": {},
   "outputs": [
    {
     "name": "stdout",
     "output_type": "stream",
     "text": [
      "20\n",
      "10\n",
      "30\n",
      "5\n",
      "50\n"
     ]
    }
   ],
   "source": [
    "for i in range(0, 5, 1): # start, end(excluded), step\n",
    "    print(numbers[i])"
   ]
  },
  {
   "cell_type": "code",
   "execution_count": 12,
   "id": "4ffea8f4",
   "metadata": {},
   "outputs": [
    {
     "name": "stdout",
     "output_type": "stream",
     "text": [
      "Even: 0\n",
      "Odd: 1\n",
      "Even: 2\n",
      "Odd: 3\n",
      "Even: 4\n",
      "Odd: 5\n",
      "Even: 6\n",
      "Odd: 7\n",
      "Even: 8\n",
      "Odd: 9\n",
      "Even: 10\n",
      "Odd: 11\n",
      "Even: 12\n",
      "Odd: 13\n",
      "Even: 14\n",
      "Odd: 15\n",
      "Even: 16\n",
      "Odd: 17\n",
      "Even: 18\n",
      "Odd: 19\n"
     ]
    }
   ],
   "source": [
    "for i in range(0, 20, 1):\n",
    "    if (i % 2 != 0):\n",
    "        print(f\"Odd: {i}\")\n",
    "    else:\n",
    "        print(f\"Even: {i}\")"
   ]
  }
 ],
 "metadata": {
  "kernelspec": {
   "display_name": ".venv",
   "language": "python",
   "name": "python3"
  },
  "language_info": {
   "codemirror_mode": {
    "name": "ipython",
    "version": 3
   },
   "file_extension": ".py",
   "mimetype": "text/x-python",
   "name": "python",
   "nbconvert_exporter": "python",
   "pygments_lexer": "ipython3",
   "version": "3.13.4"
  }
 },
 "nbformat": 4,
 "nbformat_minor": 5
}
