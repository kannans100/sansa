{
 "cells": [
  {
   "cell_type": "code",
   "execution_count": 14,
   "id": "a90aaa2f",
   "metadata": {},
   "outputs": [],
   "source": [
    "import os\n",
    "from dotenv import load_dotenv"
   ]
  },
  {
   "cell_type": "code",
   "execution_count": 15,
   "id": "871edce0",
   "metadata": {},
   "outputs": [
    {
     "name": "stdout",
     "output_type": "stream",
     "text": [
      "sk-pr...MuN4A\n"
     ]
    }
   ],
   "source": [
    "load_dotenv(override=True, dotenv_path=\"../.env\")\n",
    "my_api_key=os.getenv(\"OPENAI_API_KEY\")\n",
    "print (my_api_key[:5] + \"...\" + my_api_key[-5:])"
   ]
  },
  {
   "cell_type": "code",
   "execution_count": 16,
   "id": "4d953b92",
   "metadata": {},
   "outputs": [],
   "source": [
    "#pip install openai\n",
    "from openai import OpenAI\n",
    "client = OpenAI(api_key=my_api_key)\n",
    "\n",
    "def ask_question(prompt):\n",
    "    print(f\"User asked: {prompt}\")\n",
    "    response = client.chat.completions.create(\n",
    "        model=\"gpt-5-nano\",\n",
    "        messages=[\n",
    "            {\"role\": \"system\", \"content\": \"You are a helpful assistant. Answer as concisely as possible.\"},\n",
    "            {\"role\": \"user\", \"content\": prompt}\n",
    "        ]\n",
    "    )\n",
    "    print (response)\n",
    "    return response.choices[0].message.content  \n",
    "    # response.choices[0].message.content"
   ]
  },
  {
   "cell_type": "code",
   "execution_count": 19,
   "id": "201eec07",
   "metadata": {},
   "outputs": [
    {
     "name": "stdout",
     "output_type": "stream",
     "text": [
      "User asked: where is japan\n",
      "ChatCompletion(id='chatcmpl-CUiZvStusFRXqDLZhDKq3nFYQlAeH', choices=[Choice(finish_reason='stop', index=0, logprobs=None, message=ChatCompletionMessage(content='Japan is an island nation in East Asia, located in the western Pacific Ocean. It lies off the eastern coast of the Asian mainland, to the east of the Korean Peninsula and the Sea of Japan, and north of the Philippines. Its four main islands are Honshu, Hokkaido, Kyushu, and Shikoku; the capital is Tokyo.', refusal=None, role='assistant', annotations=[], audio=None, function_call=None, tool_calls=None))], created=1761437235, model='gpt-5-nano-2025-08-07', object='chat.completion', service_tier='default', system_fingerprint=None, usage=CompletionUsage(completion_tokens=592, prompt_tokens=27, total_tokens=619, completion_tokens_details=CompletionTokensDetails(accepted_prediction_tokens=0, audio_tokens=0, reasoning_tokens=512, rejected_prediction_tokens=0), prompt_tokens_details=PromptTokensDetails(audio_tokens=0, cached_tokens=0)))\n",
      "\n",
      "OpenAI says: Japan is an island nation in East Asia, located in the western Pacific Ocean. It lies off the eastern coast of the Asian mainland, to the east of the Korean Peninsula and the Sea of Japan, and north of the Philippines. Its four main islands are Honshu, Hokkaido, Kyushu, and Shikoku; the capital is Tokyo.\n"
     ]
    }
   ],
   "source": [
    "user_prompt = input(\"Ask something: \")\n",
    "\n",
    "response = ask_question(user_prompt)\n",
    "print(\"\\nOpenAI says:\", response)"
   ]
  },
  {
   "cell_type": "code",
   "execution_count": 18,
   "id": "17e1b81b",
   "metadata": {},
   "outputs": [
    {
     "name": "stdout",
     "output_type": "stream",
     "text": [
      "Requirement already satisfied: openai in /Users/kannans100/sansa/.venv/lib/python3.13/site-packages (2.6.1)\n",
      "Requirement already satisfied: python-dotenv in /Users/kannans100/sansa/.venv/lib/python3.13/site-packages (1.1.1)\n",
      "Requirement already satisfied: anyio<5,>=3.5.0 in /Users/kannans100/sansa/.venv/lib/python3.13/site-packages (from openai) (4.11.0)\n",
      "Requirement already satisfied: distro<2,>=1.7.0 in /Users/kannans100/sansa/.venv/lib/python3.13/site-packages (from openai) (1.9.0)\n",
      "Requirement already satisfied: httpx<1,>=0.23.0 in /Users/kannans100/sansa/.venv/lib/python3.13/site-packages (from openai) (0.28.1)\n",
      "Requirement already satisfied: jiter<1,>=0.10.0 in /Users/kannans100/sansa/.venv/lib/python3.13/site-packages (from openai) (0.11.1)\n",
      "Requirement already satisfied: pydantic<3,>=1.9.0 in /Users/kannans100/sansa/.venv/lib/python3.13/site-packages (from openai) (2.12.3)\n",
      "Requirement already satisfied: sniffio in /Users/kannans100/sansa/.venv/lib/python3.13/site-packages (from openai) (1.3.1)\n",
      "Requirement already satisfied: tqdm>4 in /Users/kannans100/sansa/.venv/lib/python3.13/site-packages (from openai) (4.67.1)\n",
      "Requirement already satisfied: typing-extensions<5,>=4.11 in /Users/kannans100/sansa/.venv/lib/python3.13/site-packages (from openai) (4.15.0)\n",
      "Requirement already satisfied: idna>=2.8 in /Users/kannans100/sansa/.venv/lib/python3.13/site-packages (from anyio<5,>=3.5.0->openai) (3.11)\n",
      "Requirement already satisfied: certifi in /Users/kannans100/sansa/.venv/lib/python3.13/site-packages (from httpx<1,>=0.23.0->openai) (2025.10.5)\n",
      "Requirement already satisfied: httpcore==1.* in /Users/kannans100/sansa/.venv/lib/python3.13/site-packages (from httpx<1,>=0.23.0->openai) (1.0.9)\n",
      "Requirement already satisfied: h11>=0.16 in /Users/kannans100/sansa/.venv/lib/python3.13/site-packages (from httpcore==1.*->httpx<1,>=0.23.0->openai) (0.16.0)\n",
      "Requirement already satisfied: annotated-types>=0.6.0 in /Users/kannans100/sansa/.venv/lib/python3.13/site-packages (from pydantic<3,>=1.9.0->openai) (0.7.0)\n",
      "Requirement already satisfied: pydantic-core==2.41.4 in /Users/kannans100/sansa/.venv/lib/python3.13/site-packages (from pydantic<3,>=1.9.0->openai) (2.41.4)\n",
      "Requirement already satisfied: typing-inspection>=0.4.2 in /Users/kannans100/sansa/.venv/lib/python3.13/site-packages (from pydantic<3,>=1.9.0->openai) (0.4.2)\n",
      "\n",
      "\u001b[1m[\u001b[0m\u001b[34;49mnotice\u001b[0m\u001b[1;39;49m]\u001b[0m\u001b[39;49m A new release of pip is available: \u001b[0m\u001b[31;49m25.1.1\u001b[0m\u001b[39;49m -> \u001b[0m\u001b[32;49m25.3\u001b[0m\n",
      "\u001b[1m[\u001b[0m\u001b[34;49mnotice\u001b[0m\u001b[1;39;49m]\u001b[0m\u001b[39;49m To update, run: \u001b[0m\u001b[32;49mpip install --upgrade pip\u001b[0m\n",
      "Note: you may need to restart the kernel to use updated packages.\n"
     ]
    }
   ],
   "source": [
    "%pip install openai python-dotenv"
   ]
  }
 ],
 "metadata": {
  "kernelspec": {
   "display_name": ".venv",
   "language": "python",
   "name": "python3"
  },
  "language_info": {
   "codemirror_mode": {
    "name": "ipython",
    "version": 3
   },
   "file_extension": ".py",
   "mimetype": "text/x-python",
   "name": "python",
   "nbconvert_exporter": "python",
   "pygments_lexer": "ipython3",
   "version": "3.13.4"
  }
 },
 "nbformat": 4,
 "nbformat_minor": 5
}
