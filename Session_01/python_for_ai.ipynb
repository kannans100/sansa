{
 "cells": [
  {
   "cell_type": "markdown",
   "id": "7a5d07e6",
   "metadata": {},
   "source": [
    "## print "
   ]
  },
  {
   "cell_type": "code",
   "execution_count": 11,
   "id": "7174500f",
   "metadata": {},
   "outputs": [
    {
     "name": "stdout",
     "output_type": "stream",
     "text": [
      "Hello world\n"
     ]
    }
   ],
   "source": [
    "print(\"Hello world\")"
   ]
  },
  {
   "cell_type": "code",
   "execution_count": 12,
   "id": "f1bf9b13",
   "metadata": {},
   "outputs": [
    {
     "name": "stdout",
     "output_type": "stream",
     "text": [
      "Name: Alice , score: 95\n"
     ]
    }
   ],
   "source": [
    "name=\"Alice\"\n",
    "score=95\n",
    "print(\"Name:\",name,\", score:\", score)"
   ]
  },
  {
   "cell_type": "code",
   "execution_count": 13,
   "id": "8f976e42",
   "metadata": {},
   "outputs": [
    {
     "name": "stdout",
     "output_type": "stream",
     "text": [
      "Alice scored 95 in the test.\n"
     ]
    }
   ],
   "source": [
    "print(F\"{name} scored {score} in the test.\")"
   ]
  },
  {
   "cell_type": "markdown",
   "id": "35664ffe",
   "metadata": {},
   "source": [
    "Write AI Code\n"
   ]
  },
  {
   "cell_type": "code",
   "execution_count": null,
   "id": "b54821e7",
   "metadata": {},
   "outputs": [],
   "source": []
  }
 ],
 "metadata": {
  "kernelspec": {
   "display_name": ".venv",
   "language": "python",
   "name": "python3"
  },
  "language_info": {
   "codemirror_mode": {
    "name": "ipython",
    "version": 3
   },
   "file_extension": ".py",
   "mimetype": "text/x-python",
   "name": "python",
   "nbconvert_exporter": "python",
   "pygments_lexer": "ipython3",
   "version": "3.13.4"
  }
 },
 "nbformat": 4,
 "nbformat_minor": 5
}
